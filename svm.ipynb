{
 "cells": [
  {
   "cell_type": "code",
   "execution_count": 2,
   "id": "da98cf70",
   "metadata": {},
   "outputs": [],
   "source": [
    "import matplotlib.pyplot as plt\n",
    "import numpy as np\n",
    "import cvxpy as cp"
   ]
  },
  {
   "cell_type": "code",
   "execution_count": null,
   "id": "73ac51dc",
   "metadata": {},
   "outputs": [],
   "source": []
  },
  {
   "cell_type": "code",
   "execution_count": 3,
   "id": "b4fed7f1",
   "metadata": {},
   "outputs": [],
   "source": [
    "class SVM:\n",
    "    def __init__(self, kernel='linear', C=1e6):\n",
    "        self.kernel = kernel\n",
    "        self.C = C\n",
    "\n",
    "    def fit(self, X, y):\n",
    "        n_samples, n_features = X.shape\n",
    "\n",
    "        # Variables de support\n",
    "        alpha = cp.Variable(n_samples)\n",
    "\n",
    "        # Problème d'optimisation\n",
    "        if self.kernel == 'linear':\n",
    "            K = X @ X.T  # Noyau linéaire\n",
    "        elif self.kernel == 'rbf':\n",
    "            gamma = 1.0 / (2 * np.var(X)) \n",
    "            K = np.exp(-gamma * np.sum((X[:, np.newaxis] - X) ** 2, axis=2))\n",
    "        \n",
    "        constraints = [0 <= alpha, alpha <= self.C, y * (K @ alpha) >= 1]\n",
    "        obj = cp.Maximize(np.sum(alpha) - 0.5 * cp.quad_form(alpha, K))\n",
    "        prob = cp.Problem(obj, constraints)\n",
    "        prob.solve()\n",
    "\n",
    "        # Trouver les vecteurs de support\n",
    "        support_vectors = np.where((alpha.value > 1e-5) & (alpha.value < self.C - 1e-5))[0]\n",
    "        self.support_vectors = X[support_vectors]\n",
    "        self.support_labels = y[support_vectors]\n",
    "        self.alpha = alpha.value[support_vectors]\n",
    "\n",
    "    def predict(self, X):\n",
    "        if self.kernel == 'linear':\n",
    "            K = X @ self.support_vectors.T\n",
    "        elif self.kernel == 'rbf':\n",
    "            gamma = 1.0 / (2 * np.var(X))  # Utiliser le même gamma que lors de l'entraînement\n",
    "            K = np.exp(-gamma * np.sum((X[:, np.newaxis] - self.support_vectors) ** 2, axis=2))\n",
    "        \n",
    "        return np.sign(K @ (self.alpha * self.support_labels))\n",
    "\n"
   ]
  },
  {
   "cell_type": "code",
   "execution_count": null,
   "id": "470d0606",
   "metadata": {},
   "outputs": [],
   "source": []
  }
 ],
 "metadata": {
  "kernelspec": {
   "display_name": "Python 3 (ipykernel)",
   "language": "python",
   "name": "python3"
  },
  "language_info": {
   "codemirror_mode": {
    "name": "ipython",
    "version": 3
   },
   "file_extension": ".py",
   "mimetype": "text/x-python",
   "name": "python",
   "nbconvert_exporter": "python",
   "pygments_lexer": "ipython3",
   "version": "3.11.3"
  }
 },
 "nbformat": 4,
 "nbformat_minor": 5
}
